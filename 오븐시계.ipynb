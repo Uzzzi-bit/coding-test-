{
 "cells": [
  {
   "cell_type": "code",
   "execution_count": null,
   "id": "657bf508",
   "metadata": {},
   "outputs": [
    {
     "name": "stdout",
     "output_type": "stream",
     "text": [
      "17 40 80\n"
     ]
    }
   ],
   "source": [
    "H,M = map(int,input().split())\n",
    "S = int(input())\n",
    " \n",
    "H = H + (M+S) // 60\n",
    "M = (M+S) % 60\n",
    "\n",
    "if H >= 24:\n",
    "    H -= 24\n",
    "\n",
    "print(H, M)"
   ]
  },
  {
   "cell_type": "code",
   "execution_count": null,
   "id": "30744b02",
   "metadata": {},
   "outputs": [],
   "source": []
  }
 ],
 "metadata": {
  "kernelspec": {
   "display_name": "Python 3",
   "language": "python",
   "name": "python3"
  },
  "language_info": {
   "codemirror_mode": {
    "name": "ipython",
    "version": 3
   },
   "file_extension": ".py",
   "mimetype": "text/x-python",
   "name": "python",
   "nbconvert_exporter": "python",
   "pygments_lexer": "ipython3",
   "version": "3.13.5"
  }
 },
 "nbformat": 4,
 "nbformat_minor": 5
}
