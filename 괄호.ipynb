{
 "cells": [
  {
   "cell_type": "code",
   "execution_count": null,
   "id": "657bf508",
   "metadata": {},
   "outputs": [
    {
     "name": "stdout",
     "output_type": "stream",
     "text": [
      "NO\n",
      "NO\n",
      "NO\n"
     ]
    }
   ],
   "source": [
    "num = int(input())\n",
    "ps_list = []\n",
    "\n",
    "for i in range(num):\n",
    "    ps = input()\n",
    "    ps_list.append(ps)\n",
    "\n",
    "for j in ps_list :\n",
    "    a = 0\n",
    "    for char in j:\n",
    "        if char == '(':\n",
    "            a += 1\n",
    "        else:\n",
    "            a -= 1\n",
    "            if a < 0:\n",
    "                break\n",
    "\n",
    "    if a == 0:\n",
    "        print('YES')\n",
    "    else:\n",
    "        print('NO')\n",
    "\n"
   ]
  },
  {
   "cell_type": "code",
   "execution_count": null,
   "id": "ddd0d051",
   "metadata": {},
   "outputs": [],
   "source": []
  }
 ],
 "metadata": {
  "kernelspec": {
   "display_name": "Python 3",
   "language": "python",
   "name": "python3"
  },
  "language_info": {
   "codemirror_mode": {
    "name": "ipython",
    "version": 3
   },
   "file_extension": ".py",
   "mimetype": "text/x-python",
   "name": "python",
   "nbconvert_exporter": "python",
   "pygments_lexer": "ipython3",
   "version": "3.13.5"
  }
 },
 "nbformat": 4,
 "nbformat_minor": 5
}
