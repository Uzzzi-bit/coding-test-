{
 "cells": [
  {
   "cell_type": "code",
   "execution_count": 16,
   "id": "657bf508",
   "metadata": {},
   "outputs": [
    {
     "name": "stdout",
     "output_type": "stream",
     "text": [
      "600\n"
     ]
    }
   ],
   "source": [
    "a,b,c = map(int,input().split())\n",
    "\n",
    "cash = 0\n",
    "\n",
    "if a == b and b == c and a == c : \n",
    "    cash = 10000+a*1000\n",
    "elif a == b:\n",
    "    cash = 1000+a*100\n",
    "elif a == c:\n",
    "    cash = 1000+a*100\n",
    "elif b == c:\n",
    "    cash = 1000+b*100\n",
    "else:\n",
    "    # a b c 중 가장 큰 값 찾기\n",
    "    i = max(a,b,c)\n",
    "    cash = i*100\n",
    "\n",
    "print(cash)"
   ]
  }
 ],
 "metadata": {
  "kernelspec": {
   "display_name": "Python 3",
   "language": "python",
   "name": "python3"
  },
  "language_info": {
   "codemirror_mode": {
    "name": "ipython",
    "version": 3
   },
   "file_extension": ".py",
   "mimetype": "text/x-python",
   "name": "python",
   "nbconvert_exporter": "python",
   "pygments_lexer": "ipython3",
   "version": "3.13.5"
  }
 },
 "nbformat": 4,
 "nbformat_minor": 5
}
