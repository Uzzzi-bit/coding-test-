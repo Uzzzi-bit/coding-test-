{
 "cells": [
  {
   "cell_type": "code",
   "execution_count": null,
   "id": "657bf508",
   "metadata": {},
   "outputs": [
    {
     "name": "stdout",
     "output_type": "stream",
     "text": [
      "2\n",
      "5\n",
      "7\n",
      "17\n",
      "7\n"
     ]
    }
   ],
   "source": [
    "num = int(input())\n",
    "\n",
    "for i in range(num):\n",
    "    a,b = map(int,input().split())\n",
    "    print(a+b)"
   ]
  },
  {
   "cell_type": "code",
   "execution_count": null,
   "id": "28d66c1d",
   "metadata": {},
   "outputs": [],
   "source": [
    "num = int(input())\n",
    "\n",
    "for i in range(1,num+1):\n",
    "    a,b = map(int,input().split())\n",
    "    print(f'Case #{i}: {a+b}')"
   ]
  },
  {
   "cell_type": "code",
   "execution_count": null,
   "id": "e1673f5e",
   "metadata": {},
   "outputs": [],
   "source": [
    "num = int(input())\n",
    "\n",
    "for i in range(1,num+1):\n",
    "    a,b = map(int,input().split())\n",
    "    print(f'Case #{i}: {a} + {b} = {a+b}')"
   ]
  },
  {
   "cell_type": "code",
   "execution_count": null,
   "id": "a982ca2e",
   "metadata": {},
   "outputs": [],
   "source": [
    "#빠른 for 문을 위해 sys.stdin.readline().rstrip() 사용\n",
    "#jupyter에서는 x\n",
    "import sys\n",
    "# input = sys.stdin.readline\n",
    "input = lambda: sys.stdin.readline().rstrip()\n",
    "\n",
    "num = int(input())\n",
    "\n",
    "for i in range(num):\n",
    "    a,b = map(int,input().split())\n",
    "    print(a+b)"
   ]
  },
  {
   "cell_type": "code",
   "execution_count": 4,
   "id": "ea0d5c92",
   "metadata": {},
   "outputs": [
    {
     "name": "stdout",
     "output_type": "stream",
     "text": [
      "2\n",
      "5\n",
      "7\n",
      "17\n",
      "7\n"
     ]
    }
   ],
   "source": [
    "while True:\n",
    "        a,b = map(int,input().split())\n",
    "        k = a+b\n",
    "        if k != 0:\n",
    "            print(k)\n",
    "        else:\n",
    "            break"
   ]
  },
  {
   "cell_type": "code",
   "execution_count": 7,
   "id": "3f739099",
   "metadata": {},
   "outputs": [
    {
     "name": "stdout",
     "output_type": "stream",
     "text": [
      "2\n",
      "5\n",
      "12\n"
     ]
    },
    {
     "ename": "ValueError",
     "evalue": "not enough values to unpack (expected 2, got 0)",
     "output_type": "error",
     "traceback": [
      "\u001b[31m---------------------------------------------------------------------------\u001b[39m",
      "\u001b[31mValueError\u001b[39m                                Traceback (most recent call last)",
      "\u001b[36mCell\u001b[39m\u001b[36m \u001b[39m\u001b[32mIn[7]\u001b[39m\u001b[32m, line 4\u001b[39m\n\u001b[32m      1\u001b[39m \u001b[38;5;28;01mwhile\u001b[39;00m \u001b[38;5;28;01mTrue\u001b[39;00m:\n\u001b[32m      2\u001b[39m     \u001b[38;5;28;01mtry\u001b[39;00m:\n\u001b[32m      3\u001b[39m         \u001b[38;5;66;03m# 두 개의 정수를 입력받고 합을 출력\u001b[39;00m\n\u001b[32m----> \u001b[39m\u001b[32m4\u001b[39m         a, b = \u001b[38;5;28mmap\u001b[39m(\u001b[38;5;28mint\u001b[39m, \u001b[38;5;28minput\u001b[39m().split())\n\u001b[32m      5\u001b[39m         \u001b[38;5;28mprint\u001b[39m(a + b)\n\u001b[32m      6\u001b[39m     \u001b[38;5;28;01mexcept\u001b[39;00m \u001b[38;5;167;01mEOFError\u001b[39;00m:\n\u001b[32m      7\u001b[39m         \u001b[38;5;66;03m# EOFError 발생 시 반복문 종료\u001b[39;00m\n",
      "\u001b[31mValueError\u001b[39m: not enough values to unpack (expected 2, got 0)"
     ]
    }
   ],
   "source": [
    "while True:\n",
    "    try:\n",
    "        # 두 개의 정수를 입력받고 합을 출력\n",
    "        a, b = map(int, input().split())\n",
    "        print(a + b)\n",
    "    except EOFError:\n",
    "        # EOFError 발생 시 반복문 종료\n",
    "        break"
   ]
  },
  {
   "cell_type": "code",
   "execution_count": null,
   "id": "0891bf3b",
   "metadata": {},
   "outputs": [],
   "source": []
  }
 ],
 "metadata": {
  "kernelspec": {
   "display_name": "Python 3",
   "language": "python",
   "name": "python3"
  },
  "language_info": {
   "codemirror_mode": {
    "name": "ipython",
    "version": 3
   },
   "file_extension": ".py",
   "mimetype": "text/x-python",
   "name": "python",
   "nbconvert_exporter": "python",
   "pygments_lexer": "ipython3",
   "version": "3.13.5"
  }
 },
 "nbformat": 4,
 "nbformat_minor": 5
}
