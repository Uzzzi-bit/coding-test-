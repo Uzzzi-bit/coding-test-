{
 "cells": [
  {
   "cell_type": "code",
   "execution_count": null,
   "id": "82efd2fb",
   "metadata": {},
   "outputs": [],
   "source": [
    "x = int(input(''))\n",
    "y = int(input(''))\n",
    "x_list1 = []\n",
    "y_list1 = []\n",
    "\n",
    "#최소공배수 x, y의 배수를 비교하여 같은 값 중 가장 작은 수\n",
    "\n",
    "###최고공약수\n",
    "#1. x의 약수 구하기\n",
    "for i in range(1,x+1) : # 1~x까지 레인지를 통해 범위 설정\n",
    "    if x%i == 0 : # x를 i를 통해 나눴을때 나머지 값이 0인 수(약수)를 검증\n",
    "        x_list1.append(i) # 검증된 i를 리스트에 담아줌\n",
    "\n",
    "#2. y의 약수\n",
    "for j in range(1,y+1) :\n",
    "    if y%j == 0 :\n",
    "        y_list1.append(j)\n",
    "\n",
    "#3. x와y의 약수를 set으로 묶어 교집합 연산하여 공약수 리스트에 담아줌\n",
    "union_list1 = list(set(x_list1) & set(y_list1))\n",
    "#4. 최대공약수 pop를 활용해 출력\n",
    "result1 = union_list1.pop()\n",
    "print(result1)\n",
    "\n",
    "###최소공배수 구하기\n",
    "#1. 최소공배수의 공식에 대입하여 풀기\n",
    "result2 = x*y//result1 #최소공배수 = A * B / A와 B의 최소공약수\n",
    "print(result2)\n"
   ]
  }
 ],
 "metadata": {
  "language_info": {
   "name": "python"
  }
 },
 "nbformat": 4,
 "nbformat_minor": 5
}
