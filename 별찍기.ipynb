{
 "cells": [
  {
   "cell_type": "code",
   "execution_count": null,
   "id": "8d001372",
   "metadata": {},
   "outputs": [
    {
     "name": "stdout",
     "output_type": "stream",
     "text": [
      "*\n",
      "**\n",
      "***\n",
      "****\n",
      "*****\n"
     ]
    }
   ],
   "source": [
    "# 별찍기\n",
    "num = int(input())\n",
    "\n",
    "for i in range(1,num+1):\n",
    "    print(\"*\"*i)"
   ]
  },
  {
   "cell_type": "code",
   "execution_count": 1,
   "id": "657bf508",
   "metadata": {},
   "outputs": [
    {
     "name": "stdout",
     "output_type": "stream",
     "text": [
      "    *\n",
      "   **\n",
      "  ***\n",
      " ****\n",
      "*****\n"
     ]
    }
   ],
   "source": [
    "#오른쪽 정렬\n",
    "num = int(input())\n",
    "\n",
    "for i in range(1,num+1):\n",
    "    print(' '*(num-i), end = \"\")\n",
    "    print('*'*i)\n"
   ]
  },
  {
   "cell_type": "code",
   "execution_count": 2,
   "id": "c606d277",
   "metadata": {},
   "outputs": [
    {
     "name": "stdout",
     "output_type": "stream",
     "text": [
      "*****\n",
      "****\n",
      "***\n",
      "**\n",
      "*\n"
     ]
    }
   ],
   "source": [
    "#역순\n",
    "num = int(input())\n",
    "\n",
    "for i in reversed(range(1,num+1)):\n",
    "    print('*'*i)"
   ]
  },
  {
   "cell_type": "code",
   "execution_count": 3,
   "id": "c2e36bda",
   "metadata": {},
   "outputs": [
    {
     "name": "stdout",
     "output_type": "stream",
     "text": [
      "*****\n",
      " ****\n",
      "  ***\n",
      "   **\n",
      "    *\n"
     ]
    }
   ],
   "source": [
    "#역순 오른쪽 정렬\n",
    "num = int(input())\n",
    "\n",
    "for i in reversed(range(1,num+1)):\n",
    "    print(' '*(num-i), end = \"\")\n",
    "    print('*'*i)"
   ]
  },
  {
   "cell_type": "code",
   "execution_count": 35,
   "id": "13d72fb8",
   "metadata": {},
   "outputs": [
    {
     "name": "stdout",
     "output_type": "stream",
     "text": [
      "    *\n",
      "   ***\n",
      "  *****\n",
      " *******\n",
      "*********\n"
     ]
    }
   ],
   "source": [
    "# 피라미드\n",
    "#    *       공백 4 별 1   0\n",
    "#   ***      공백 3 별 3   1\n",
    "#  *****     공백 2 별 5   2\n",
    "# *******    공백 1 별 7   3\n",
    "#*********   공백 0 별 9   4\n",
    "\n",
    "num = int(input())\n",
    "\n",
    "\n",
    "for i in range(num):\n",
    "    print(' '*(num-i-1)+'*'*(2*i+1))\n"
   ]
  },
  {
   "cell_type": "code",
   "execution_count": null,
   "id": "ec2c4d58",
   "metadata": {},
   "outputs": [
    {
     "name": "stdout",
     "output_type": "stream",
     "text": [
      "*********\n",
      " *******\n",
      "  *****\n",
      "   ***\n",
      "    *\n"
     ]
    }
   ],
   "source": [
    "# 역피라미드\n",
    "#*********   공백 0 별 9   4\n",
    "# *******    공백 1 별 7   3\n",
    "#  *****     공백 2 별 5   2\n",
    "#   ***      공백 3 별 3   1\n",
    "#    *       공백 4 별 1   0\n",
    "num = int(input())\n",
    "\n",
    "for i in reversed(range(num)):\n",
    "    print(' '*(num-i-1)+'*'*(2*i+1))"
   ]
  },
  {
   "cell_type": "code",
   "execution_count": 39,
   "id": "82844e0f",
   "metadata": {},
   "outputs": [
    {
     "name": "stdout",
     "output_type": "stream",
     "text": [
      "        *\n",
      "       ***\n",
      "      *****\n",
      "     *******\n",
      "    *********\n",
      "   ***********\n",
      "  *************\n",
      " ***************\n",
      "*****************\n",
      " ***************\n",
      "  *************\n",
      "   ***********\n",
      "    *********\n",
      "     *******\n",
      "      *****\n",
      "       ***\n",
      "        *\n"
     ]
    }
   ],
   "source": [
    "# 다이아몬드\n",
    "num = int(input())\n",
    "\n",
    "\n",
    "for i in range(num):\n",
    "    print(' '*(num-i-1)+'*'*(2*i+1))\n",
    "\n",
    "for i in reversed(range(num-1)):\n",
    "    print(' '*(num-i-1)+'*'*(2*i+1))"
   ]
  },
  {
   "cell_type": "code",
   "execution_count": null,
   "id": "ba391e40",
   "metadata": {},
   "outputs": [],
   "source": []
  }
 ],
 "metadata": {
  "kernelspec": {
   "display_name": "Python 3",
   "language": "python",
   "name": "python3"
  },
  "language_info": {
   "codemirror_mode": {
    "name": "ipython",
    "version": 3
   },
   "file_extension": ".py",
   "mimetype": "text/x-python",
   "name": "python",
   "nbconvert_exporter": "python",
   "pygments_lexer": "ipython3",
   "version": "3.13.5"
  }
 },
 "nbformat": 4,
 "nbformat_minor": 5
}
