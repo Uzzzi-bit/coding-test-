{
 "cells": [
  {
   "cell_type": "code",
   "execution_count": 42,
   "id": "f9aad8a0",
   "metadata": {},
   "outputs": [
    {
     "name": "stdout",
     "output_type": "stream",
     "text": [
      "22 55\n"
     ]
    }
   ],
   "source": [
    "H,M = map(int,input().split(\" \"))\n",
    "\n",
    "if M - 45 < 0 :\n",
    "    M = 60 + (M-45)\n",
    "    if H - 1 < 0 :\n",
    "        H = 24 + (H - 1)\n",
    "    else : \n",
    "        H = H - 1\n",
    "else:\n",
    "    M = M - 45\n",
    "\n",
    "print(H, M)"
   ]
  }
 ],
 "metadata": {
  "kernelspec": {
   "display_name": "Python 3",
   "language": "python",
   "name": "python3"
  },
  "language_info": {
   "codemirror_mode": {
    "name": "ipython",
    "version": 3
   },
   "file_extension": ".py",
   "mimetype": "text/x-python",
   "name": "python",
   "nbconvert_exporter": "python",
   "pygments_lexer": "ipython3",
   "version": "3.13.5"
  }
 },
 "nbformat": 4,
 "nbformat_minor": 5
}
